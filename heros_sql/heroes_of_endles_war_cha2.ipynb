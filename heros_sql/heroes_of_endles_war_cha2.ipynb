{
 "cells": [
  {
   "cell_type": "code",
   "id": "initial_id",
   "metadata": {
    "collapsed": true,
    "ExecuteTime": {
     "end_time": "2025-05-13T19:55:47.020520Z",
     "start_time": "2025-05-13T19:55:47.013678Z"
    }
   },
   "source": [
    "import sqlalchemy as sa\n",
    "from sqlalchemy import orm"
   ],
   "outputs": [],
   "execution_count": 8
  },
  {
   "metadata": {
    "ExecuteTime": {
     "end_time": "2025-05-13T19:55:47.128999Z",
     "start_time": "2025-05-13T19:55:47.118209Z"
    }
   },
   "cell_type": "code",
   "source": [
    "engine = sa.create_engine('sqlite:///heroes.db', echo=True)\n",
    "connection = engine.connect()"
   ],
   "id": "93658034e8ab4b62",
   "outputs": [],
   "execution_count": 9
  },
  {
   "metadata": {
    "ExecuteTime": {
     "end_time": "2025-05-13T19:55:47.212572Z",
     "start_time": "2025-05-13T19:55:47.204761Z"
    }
   },
   "cell_type": "code",
   "source": [
    "class Base(orm.DeclarativeBase):\n",
    "    pass\n"
   ],
   "id": "4d445c3c1b1aa8f3",
   "outputs": [],
   "execution_count": 10
  },
  {
   "metadata": {
    "ExecuteTime": {
     "end_time": "2025-05-13T19:55:47.334381Z",
     "start_time": "2025-05-13T19:55:47.274682Z"
    }
   },
   "cell_type": "code",
   "source": [
    "class BattleEvents(Base):\n",
    "    __tablename__ = \"battle_events\"\n",
    "    battle_event_id: orm.Mapped[int] = orm.mapped_column(sa.Integer, primary_key=True)\n",
    "    battle_event_type_id: orm.Mapped[int] = orm.mapped_column(sa.Integer, nullable=False)\n",
    "    rubies_gained: orm.Mapped[int] = orm.mapped_column(sa.Integer)\n",
    "    timestamp: orm.Mapped[int] = orm.mapped_column(sa.Integer, nullable=False)\n",
    "    battle_participant_id: orm.Mapped[int] = orm.mapped_column(\n",
    "        sa.ForeignKey(\"battle_participants.battle_participant_id\"))\n",
    "\n",
    "    def __repr__(self):\n",
    "        return f'{type(self).__name__}({self.rubies_gained}, {self.timestamp}, {self.battle_participant_id})'\n",
    "\n",
    "\n",
    "class BattleParticipants(Base):\n",
    "    __tablename__ = 'battle_participants'\n",
    "\n",
    "    battle_participant_id: orm.Mapped[int] = orm.mapped_column(sa.Integer, primary_key=True)\n",
    "    user_id: orm.Mapped[int] = orm.mapped_column(sa.Integer, nullable=False)\n",
    "    battle_id: orm.Mapped[int] = orm.mapped_column(sa.Integer, nullable=False)\n",
    "    hero_id: orm.Mapped[int] = orm.mapped_column(sa.ForeignKey('heroes.hero_id'), nullable=False)\n",
    "\n",
    "    def __repr__(self):\n",
    "        return f'{type(self).__name__}({self.battle_participant_id}, {self.user_id}, {self.battle_id})'\n",
    "\n",
    "\n",
    "class Heroes(Base):\n",
    "    __tablename__ = 'heroes'\n",
    "\n",
    "    name: orm.Mapped[str] = orm.mapped_column(sa.String, nullable=False, unique=True)\n",
    "    hero_id: orm.Mapped[int] = orm.mapped_column(sa.Integer, primary_key=True)\n",
    "\n",
    "    def __repr__(self):\n",
    "        return f'{type(self).__name__}({self.name})'"
   ],
   "id": "d15f556b72cb0fd2",
   "outputs": [],
   "execution_count": 11
  },
  {
   "metadata": {
    "ExecuteTime": {
     "end_time": "2025-05-13T19:57:55.911134Z",
     "start_time": "2025-05-13T19:57:55.830831Z"
    }
   },
   "cell_type": "code",
   "source": [
    "\n",
    "# Wyświetl nazwę bohatera oraz w ilu walkach wziął udział\n",
    "# SELECT heroes.name, Count(be.battle_event_id) AS TotalEvents\n",
    "# FROM heroes AS h\n",
    "# JOIN battle_participants AS bp ON bp.hero_id = h.hero_id\n",
    "# JOIN battle_events AS be ON be.battle_partcipants_id = bp.battle_paricipant_id\n",
    "q = (sa.select(Heroes.name, sa.func.count(BattleEvents.battle_event_id).label(\"TotalEvents\"))\n",
    "     .join(BattleParticipants, BattleParticipants.hero_id == Heroes.hero_id)\n",
    "     .join(BattleEvents, BattleEvents.battle_participant_id == BattleParticipants.battle_participant_id).group_by(Heroes.name).order_by(sa.desc(\"TotalEvents\")))\n",
    "dc = connection.execute(q)\n",
    "d = dc.fetchall()\n",
    "print(d)"
   ],
   "id": "2a7b3e1dc6899a22",
   "outputs": [
    {
     "name": "stdout",
     "output_type": "stream",
     "text": [
      "2025-05-13 21:57:55,840 INFO sqlalchemy.engine.Engine BEGIN (implicit)\n",
      "2025-05-13 21:57:55,842 INFO sqlalchemy.engine.Engine SELECT heroes.name, count(battle_events.battle_event_id) AS \"TotalEvents\" \n",
      "FROM heroes JOIN battle_participants ON battle_participants.hero_id = heroes.hero_id JOIN battle_events ON battle_events.battle_participant_id = battle_participants.battle_participant_id GROUP BY heroes.name ORDER BY \"TotalEvents\" DESC\n",
      "2025-05-13 21:57:55,845 INFO sqlalchemy.engine.Engine [generated in 0.00551s] ()\n",
      "[('Crareek', 3687), ('Pamble', 2054), ('Huzzt', 2036), ('Tan', 1946), ('Grimm', 1820), ('Jade', 1780), ('Hillstomp', 1736), ('Mako', 1719), ('Grrdy', 1528)]\n"
     ]
    }
   ],
   "execution_count": 16
  },
  {
   "metadata": {
    "ExecuteTime": {
     "end_time": "2025-05-13T19:58:28.900067Z",
     "start_time": "2025-05-13T19:58:28.891050Z"
    }
   },
   "cell_type": "code",
   "source": [
    "# Podaj bochatera który zabił najwięcej innych bohaterów\n",
    "\n"
   ],
   "id": "98597bab47366759",
   "outputs": [],
   "execution_count": 17
  },
  {
   "metadata": {},
   "cell_type": "code",
   "outputs": [],
   "execution_count": null,
   "source": "",
   "id": "ab8a08c594b241c3"
  }
 ],
 "metadata": {
  "kernelspec": {
   "display_name": "Python 3",
   "language": "python",
   "name": "python3"
  },
  "language_info": {
   "codemirror_mode": {
    "name": "ipython",
    "version": 2
   },
   "file_extension": ".py",
   "mimetype": "text/x-python",
   "name": "python",
   "nbconvert_exporter": "python",
   "pygments_lexer": "ipython2",
   "version": "2.7.6"
  }
 },
 "nbformat": 4,
 "nbformat_minor": 5
}
